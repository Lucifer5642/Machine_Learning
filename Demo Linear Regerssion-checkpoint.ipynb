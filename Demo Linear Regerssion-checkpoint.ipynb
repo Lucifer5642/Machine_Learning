{
 "cells": [
  {
   "cell_type": "code",
   "execution_count": 1,
   "id": "3bbdaade",
   "metadata": {},
   "outputs": [],
   "source": [
    "import pandas as pd\n",
    "import matplotlib.pyplot as plt\n",
    "from sklearn.metrics import r2_score, mean_squared_error\n",
    "from math import sqrt\n",
    "\n",
    "%matplotlib inline\n"
   ]
  },
  {
   "cell_type": "code",
   "execution_count": null,
   "id": "94e0024b",
   "metadata": {},
   "outputs": [],
   "source": [
    "data = pd.read_csv('Datasetname.csv', index_col=0)\n",
    "\n",
    "data.columns = ['TV','Radio','NewsPaper', 'Sales']"
   ]
  },
  {
   "cell_type": "code",
   "execution_count": null,
   "id": "5892cb9a",
   "metadata": {},
   "outputs": [],
   "source": [
    "data.shape"
   ]
  },
  {
   "cell_type": "code",
   "execution_count": null,
   "id": "3a9d1d48",
   "metadata": {},
   "outputs": [],
   "source": [
    "fig.axes = plt.subplots(1,3,sharey=True)\n",
    "data.plot(kind=\"scatter\",x='TV',y='Sales',ax=axs[0],figsize=(16,8))\n",
    "data.plot(kind=\"scatter\",x='Radio',y='Sales',ax=axs[1])\n",
    "data.plot(kind=\"scatter\",x='NewsPaper',y='Sales',ax=axs[2])"
   ]
  },
  {
   "cell_type": "code",
   "execution_count": null,
   "id": "a1e4d355",
   "metadata": {},
   "outputs": [],
   "source": [
    "feature_cols = ['Tv']\n",
    "x = data[feature_cols]  # this is independent variable\n",
    "y = data.sales         # this is dependent variable"
   ]
  },
  {
   "cell_type": "code",
   "execution_count": null,
   "id": "edb5fd2b",
   "metadata": {},
   "outputs": [],
   "source": [
    "from sklearn.linear_model import LinearRegression   # import  the LinearRegression\n",
    "lm = LinearRegression()                             # initialise the model \n",
    "lm.fit(x, y)                # fit the data into the model\n",
    "\n"
   ]
  },
  {
   "cell_type": "code",
   "execution_count": null,
   "id": "b8e9bcff",
   "metadata": {},
   "outputs": [],
   "source": [
    "print(lm.intercept_)\n",
    "print(lm.coef_)"
   ]
  },
  {
   "cell_type": "code",
   "execution_count": null,
   "id": "a42e37d2",
   "metadata": {},
   "outputs": [],
   "source": [
    " #This is only output value of the above line \n",
    "    \n",
    "lm.intercept_+lm.coef_+50   # this is from previous result to calculate the new value"
   ]
  },
  {
   "cell_type": "code",
   "execution_count": null,
   "id": "93abd8e4",
   "metadata": {},
   "outputs": [],
   "source": [
    "# Lets predicct the new X value\n",
    "\n",
    "X_new = pd.DataFrame({'TV':{50}})\n",
    "X_new.head()"
   ]
  },
  {
   "cell_type": "code",
   "execution_count": null,
   "id": "10f939d7",
   "metadata": {},
   "outputs": [],
   "source": [
    "lm.predict(X_new)"
   ]
  },
  {
   "cell_type": "code",
   "execution_count": null,
   "id": "d2442f09",
   "metadata": {},
   "outputs": [],
   "source": [
    "X_new = pd.DataFrame({'TV': {data.TV.min(),data.TV.max()}})\n",
    "X_new.head()"
   ]
  },
  {
   "cell_type": "code",
   "execution_count": null,
   "id": "2847856e",
   "metadata": {},
   "outputs": [],
   "source": [
    "preds = lm.predict(X_new)\n",
    "preds"
   ]
  },
  {
   "cell_type": "code",
   "execution_count": null,
   "id": "79d0c69f",
   "metadata": {},
   "outputs": [],
   "source": [
    "data.plot(kind='scatter',x='TV',y='Sales')\n",
    "plt.plot(X_new,preds,c='red',linewidth='2')"
   ]
  },
  {
   "cell_type": "code",
   "execution_count": null,
   "id": "c8ea78c9",
   "metadata": {},
   "outputs": [],
   "source": [
    "import  statemodels.formula.api as snf\n",
    "lm = smf.ols(formulas='Sales ~ TV',data=data).fit()"
   ]
  },
  {
   "cell_type": "code",
   "execution_count": null,
   "id": "4e3bb323",
   "metadata": {},
   "outputs": [],
   "source": [
    "lm.conf_int()"
   ]
  },
  {
   "cell_type": "code",
   "execution_count": null,
   "id": "e1a43b12",
   "metadata": {},
   "outputs": [],
   "source": [
    "lm.pvalues"
   ]
  },
  {
   "cell_type": "code",
   "execution_count": null,
   "id": "cb4d7b3d",
   "metadata": {},
   "outputs": [],
   "source": [
    "lm.rsquared        # R2 values"
   ]
  },
  {
   "cell_type": "code",
   "execution_count": null,
   "id": "08464d08",
   "metadata": {},
   "outputs": [],
   "source": [
    "feature_cols = ['TV', 'Radio', 'Newspaper']\n",
    "X = data[feature_cols]\n",
    "y = data.Sales\n",
    "\n",
    "from sklearn import model_selection\n",
    "\n",
    "xtrain, xtest, ytrain, ytest = mdoel_selection.train_test_split(X,y,test_size=0.3, random_state = 42)"
   ]
  },
  {
   "cell_type": "code",
   "execution_count": null,
   "id": "5c077f18",
   "metadata": {},
   "outputs": [],
   "source": [
    "lm = LinearRegression()\n",
    "lm.fit(X,y)\n",
    "print(lm.intercept_)\n",
    "print(lm.coef_)"
   ]
  },
  {
   "cell_type": "code",
   "execution_count": null,
   "id": "85da9e47",
   "metadata": {},
   "outputs": [],
   "source": [
    "lm = LinearRegression()\n",
    "lm.fit(xtrain, ytrain)\n"
   ]
  },
  {
   "cell_type": "code",
   "execution_count": null,
   "id": "3e59dfab",
   "metadata": {},
   "outputs": [],
   "source": [
    "print(lm.intercept_)\n",
    "print(lm.coef_)\n",
    "\n",
    "predictions = lm.predict(xtest)\n",
    "print(sqrt(mean_squared_error(ytest,predictions)))"
   ]
  },
  {
   "cell_type": "code",
   "execution_count": null,
   "id": "e149376b",
   "metadata": {},
   "outputs": [],
   "source": [
    "lm = smf.ols(formula='Sales~TV + Radio + Newspaper', data=data).fit()\n",
    "lm.conf_init()"
   ]
  },
  {
   "cell_type": "code",
   "execution_count": null,
   "id": "af0a97ee",
   "metadata": {},
   "outputs": [],
   "source": [
    "lm = smf.ols(formula='Sales~TV + Radio + Newspaper', data=data).fit()\n",
    "lm.rsquared"
   ]
  },
  {
   "cell_type": "code",
   "execution_count": null,
   "id": "8e90c706",
   "metadata": {},
   "outputs": [],
   "source": [
    "lm = smf.ols(formula='Sales~TV + Radio + Newspaped', data=data).fit()\n",
    "lm.rsquared"
   ]
  },
  {
   "cell_type": "code",
   "execution_count": null,
   "id": "371da7b5",
   "metadata": {},
   "outputs": [],
   "source": [
    "import numpy as np\n",
    "np.random.seed(1234)\n",
    "\n",
    "numa = np.random.read(len(data))\n",
    "mask_large = nums > 0.5\n",
    "\n",
    "data['Size'] = 'small'\n",
    "data.loc[mask_large,'Size']='large'\n",
    "data.head()"
   ]
  },
  {
   "cell_type": "code",
   "execution_count": null,
   "id": "87633bb8",
   "metadata": {},
   "outputs": [],
   "source": [
    "data['IsLarge'] = data.Size.map({'small':0,'large':1})\n",
    "data.head()"
   ]
  },
  {
   "cell_type": "code",
   "execution_count": null,
   "id": "7c3067fc",
   "metadata": {},
   "outputs": [],
   "source": [
    "feature_cols = ['TV','Radio','Newspaper','IsLarge']\n",
    "X = data[feature_cols]\n",
    "y = data.Sales\n",
    "\n",
    "lm = LinearRegression()\n",
    "lm.fit(X,y)\n",
    "\n",
    "zip(feature_cols,lm.coef_)"
   ]
  },
  {
   "cell_type": "code",
   "execution_count": null,
   "id": "871699af",
   "metadata": {},
   "outputs": [],
   "source": [
    "np.random.seed(123456)\n",
    "\n",
    "nums = np.random.rand(len(data))\n",
    "mask_suburban = (nums > 0.33) & (nums < 0.66)\n",
    "mask_urban = nums > 0.66\n",
    "data['Area'] = 'rural'\n",
    "data.iloc[mask_suburban,'Area'] = 'suburban'\n",
    "data.loc[mask_urban,'Area'] = 'urban'\n",
    "data.head()"
   ]
  },
  {
   "cell_type": "code",
   "execution_count": null,
   "id": "39115020",
   "metadata": {},
   "outputs": [],
   "source": [
    "area_dummies = pd.get_dummies(data.Area,prefix = 'Area').iloc[:,1:]\n",
    "\n",
    "data = pd.concat([data,area_dummies],axis=1)\n",
    "data.head()"
   ]
  },
  {
   "cell_type": "code",
   "execution_count": null,
   "id": "cf87057e",
   "metadata": {},
   "outputs": [],
   "source": []
  }
 ],
 "metadata": {
  "kernelspec": {
   "display_name": "Python 3",
   "language": "python",
   "name": "python3"
  },
  "language_info": {
   "codemirror_mode": {
    "name": "ipython",
    "version": 3
   },
   "file_extension": ".py",
   "mimetype": "text/x-python",
   "name": "python",
   "nbconvert_exporter": "python",
   "pygments_lexer": "ipython3",
   "version": "3.8.8"
  }
 },
 "nbformat": 4,
 "nbformat_minor": 5
}
